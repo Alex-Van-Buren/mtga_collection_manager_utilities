{
 "cells": [
  {
   "cell_type": "code",
   "execution_count": null,
   "metadata": {},
   "outputs": [],
   "source": [
    "import matplotlib.pyplot as plt, json, pandas as pd, numpy as np"
   ]
  },
  {
   "cell_type": "code",
   "execution_count": null,
   "metadata": {},
   "outputs": [],
   "source": [
    "def polyFit(x, y, degree):\n",
    "    \"\"\"\n",
    "    Returns a list of polynomial constants for least squares fit of specified degree\n",
    "    given x, y values in an ndarray\n",
    "    \"\"\"\n",
    "    assert len(x) == len(y)\n",
    "    assert len(x) >= degree\n",
    "    \n",
    "    # Make A matrix\n",
    "    X = np.ones((len(x), degree+1))\n",
    "    for i in range(len(x)):\n",
    "        for j in range(degree+1):\n",
    "            X[i][j] = x[i]**j\n",
    "    \n",
    "    # Solve for constants c, from Xc = Y equation\n",
    "    c = np.linalg.inv(X.T @ X) @ X.T @ y.T\n",
    "    return c"
   ]
  },
  {
   "cell_type": "code",
   "execution_count": null,
   "metadata": {},
   "outputs": [],
   "source": [
    "def polyPlot(data, degree, ax):\n",
    "    \n",
    "    # Get constants from polyFit\n",
    "    c = []\n",
    "    for d in range(degree):\n",
    "        c.append(polyFit(data[:,0], data[:,1], d+1))\n",
    "    \n",
    "    # Calculate y values for plotting\n",
    "    xx = np.linspace(0,1, 101)\n",
    "    plotData = pd.DataFrame({\n",
    "        \"x\": xx\n",
    "    })\n",
    "    \n",
    "    one_norm = 0\n",
    "    \n",
    "    for i in range(len(c)):\n",
    "        \n",
    "        yy = 0\n",
    "        f = ''\n",
    "        for j in range(len(c[i])):\n",
    "            yy += c[i][j] * xx**j\n",
    "            \n",
    "            # Build label\n",
    "            constant = c[i][j]\n",
    "            if (j == 0):\n",
    "                f += f'{constant}'\n",
    "            elif (j == 1):\n",
    "                f += f' + {constant}x'\n",
    "            else:\n",
    "                f += f' + {constant}x^{j}'\n",
    "        \n",
    "        l1 = f'{round(sum(abs(yy - data[:,1])),3)}'\n",
    "        text = f\"Degree {j}, L1={l1}\"\n",
    "        plotData[text] = yy\n",
    "        print(f'L1: {l1}, Constants: {list(c[j-1])}\\n')\n",
    "\n",
    "    # Plotting\n",
    "    for y in plotData:\n",
    "        if y == 'x':\n",
    "            continue\n",
    "        plotData.plot.line(x='x', y=y, ax=ax)\n",
    "    \n",
    "    return plotData"
   ]
  },
  {
   "cell_type": "code",
   "execution_count": null,
   "metadata": {},
   "outputs": [],
   "source": [
    "\n",
    "fig,ax = plt.subplots()\n",
    "fig.set_size_inches(14,10)\n",
    "ax.set_title('Premier Draft')\n",
    "ax.set_ylabel('Average Gems')\n",
    "\n",
    "premierLookup = json.load(open('premierLookup.json', 'r'))\n",
    "premierDF = pd.DataFrame.from_dict(premierLookup, orient='index').reset_index().astype(np.double)\n",
    "premierDF = premierDF.rename(columns={'index':'percent'})\n",
    "premierDF.plot.scatter(x='percent', y='avgGems', ax=ax)\n",
    "\n",
    "polyPlot(\n",
    "    data=premierDF[['percent', 'avgGems']].to_numpy(), degree=10, ax=ax\n",
    ")\n",
    "None"
   ]
  },
  {
   "cell_type": "code",
   "execution_count": null,
   "metadata": {},
   "outputs": [],
   "source": [
    "fig,ax = plt.subplots()\n",
    "fig.set_size_inches(14,10)\n",
    "ax.set_title('Premier Draft')\n",
    "ax.set_ylabel('Average Packs')\n",
    "\n",
    "premierDF.plot.scatter(x='percent', y='avgPacks', ax=ax)\n",
    "\n",
    "polyPlot(\n",
    "    data=premierDF[['percent', 'avgPacks']].to_numpy(), degree=10, ax=ax\n",
    ")\n",
    "None"
   ]
  },
  {
   "cell_type": "code",
   "execution_count": null,
   "metadata": {},
   "outputs": [],
   "source": [
    "fig,ax = plt.subplots()\n",
    "fig.set_size_inches(14,10)\n",
    "ax.set_title('Quick Draft')\n",
    "ax.set_ylabel('Average Gems')\n",
    "\n",
    "quickLookup = json.load(open('quickLookup.json', 'r'))\n",
    "quickDF = pd.DataFrame.from_dict(quickLookup, orient='index').reset_index().astype(np.double)\n",
    "quickDF = quickDF.rename(columns={'index':'percent'})\n",
    "quickDF.plot.scatter(x='percent', y='avgGems', ax=ax)\n",
    "\n",
    "polyPlot(\n",
    "    data=quickDF[['percent', 'avgGems']].to_numpy(), degree=9, ax=ax\n",
    ")\n",
    "None"
   ]
  },
  {
   "cell_type": "code",
   "execution_count": null,
   "metadata": {},
   "outputs": [],
   "source": [
    "fig,ax = plt.subplots()\n",
    "fig.set_size_inches(14,10)\n",
    "ax.set_title('Quick Draft')\n",
    "ax.set_ylabel('Average Packs')\n",
    "\n",
    "quickDF.plot.scatter(x='percent', y='avgPacks', ax=ax)\n",
    "\n",
    "polyPlot(\n",
    "    data=quickDF[['percent', 'avgPacks']].to_numpy(), degree=10, ax=ax\n",
    ")\n",
    "None"
   ]
  },
  {
   "cell_type": "code",
   "execution_count": null,
   "metadata": {},
   "outputs": [],
   "source": [
    "fig,ax = plt.subplots()\n",
    "fig.set_size_inches(14,10)\n",
    "ax.set_title('traditional Draft')\n",
    "ax.set_ylabel('Average Gems')\n",
    "\n",
    "traditionalLookup = json.load(open('traditionalLookup.json', 'r'))\n",
    "traditionalDF = pd.DataFrame.from_dict(traditionalLookup, orient='index').reset_index().astype(np.double)\n",
    "traditionalDF = traditionalDF.rename(columns={'index':'percent'})\n",
    "traditionalDF.plot.scatter(x='percent', y='avgGems', ax=ax)\n",
    "\n",
    "polyPlot(\n",
    "    data=traditionalDF[['percent', 'avgGems']].to_numpy(), degree=9, ax=ax\n",
    ")\n",
    "None"
   ]
  },
  {
   "cell_type": "code",
   "execution_count": null,
   "metadata": {},
   "outputs": [],
   "source": [
    "fig,ax = plt.subplots()\n",
    "fig.set_size_inches(14,10)\n",
    "ax.set_title('traditional Draft')\n",
    "ax.set_ylabel('Average Packs')\n",
    "\n",
    "traditionalDF.plot.scatter(x='percent', y='avgPacks', ax=ax)\n",
    "\n",
    "polyPlot(\n",
    "    data=traditionalDF[['percent', 'avgPacks']].to_numpy(), degree=6, ax=ax\n",
    ")\n",
    "None"
   ]
  },
  {
   "cell_type": "code",
   "execution_count": null,
   "metadata": {},
   "outputs": [],
   "source": []
  }
 ],
 "metadata": {
  "kernelspec": {
   "display_name": "Python 3.9.7 ('base')",
   "language": "python",
   "name": "python3"
  },
  "language_info": {
   "codemirror_mode": {
    "name": "ipython",
    "version": 3
   },
   "file_extension": ".py",
   "mimetype": "text/x-python",
   "name": "python",
   "nbconvert_exporter": "python",
   "pygments_lexer": "ipython3",
   "version": "3.9.7"
  },
  "orig_nbformat": 4,
  "vscode": {
   "interpreter": {
    "hash": "959abb23f09245144c60989dec6dcbf647540387fbb67be8d71ce35005c40bd5"
   }
  }
 },
 "nbformat": 4,
 "nbformat_minor": 2
}
